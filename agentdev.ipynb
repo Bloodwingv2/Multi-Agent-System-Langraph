{
 "cells": [
  {
   "cell_type": "code",
   "execution_count": 2,
   "id": "97f71ed3",
   "metadata": {},
   "outputs": [],
   "source": [
    "from typing import Annotated\n",
    "from typing_extensions import TypedDict\n",
    "\n",
    "# Langchain/graph modules\n",
    "from langgraph.graph import StateGraph,START,END\n",
    "from langgraph.graph.message import add_messages\n",
    "\n",
    "# Import Model\n",
    "from langchain_groq import ChatGroq\n",
    "from langchain.chat_models import init_chat_model\n",
    "\n",
    "# Import environment variables\n",
    "from dotenv import load_dotenv\n",
    "load_dotenv()\n",
    "\n",
    "# Import visualization library\n",
    "from IPython.display import Image,display"
   ]
  },
  {
   "cell_type": "code",
   "execution_count": null,
   "id": "ed8bd5c0",
   "metadata": {},
   "outputs": [],
   "source": [
    "# Define Class state for messages\n",
    "class State(TypedDict):\n",
    "    messages:Annotated[list,add_messages]\n",
    "\n",
    "# testing node functionality\n",
    "def chatbot(state:State):\n",
    "    return {\"messages\":[llm.invoke(state[\"messages\"])]}\n",
    "\n",
    "llm = ChatGroq(model=\"llama3-8b-8192\")\n",
    "print(llm)"
   ]
  },
  {
   "cell_type": "code",
   "execution_count": null,
   "id": "1fb92026",
   "metadata": {},
   "outputs": [],
   "source": [
    "graph_builder = StateGraph(State)\n",
    "\n",
    "# Adding node\n",
    "graph_builder.add_node(\"llmchat\", chatbot) \n",
    "\n",
    "# Adding Edges\n",
    "graph_builder.add_edge(START,\"llmchat\")\n",
    "graph_builder.add_edge(\"llmchat\", END)\n",
    "\n",
    "# Compile The graph\n",
    "graph = graph_builder.compile(name=\"Agent_test\")"
   ]
  },
  {
   "cell_type": "code",
   "execution_count": 5,
   "id": "e415b461",
   "metadata": {},
   "outputs": [
    {
     "data": {
      "image/png": "[encoded data removed]",
      "text/plain": [
       "<IPython.core.display.Image object>"
      ]
     },
     "metadata": {},
     "output_type": "display_data"
    },
    {
     "name": "stdout",
     "output_type": "stream",
     "text": [
      "Visualization not supported in this environment.\n"
     ]
    }
   ],
   "source": [
    "try:\n",
    "    img = display(Image(graph.get_graph().draw_mermaid_png()))\n",
    "    with open(\"graph.png\", \"wb\") as f:\n",
    "        f.write(img.data)\n",
    "except Exception:\n",
    "    print(\"Visualization not supported in this environment.\")"
   ]
  },
  {
   "cell_type": "code",
   "execution_count": 8,
   "id": "f44d0b5b",
   "metadata": {},
   "outputs": [],
   "source": [
    "response = graph.invoke({\"messages\": \"Hi\"})\n"
   ]
  },
  {
   "cell_type": "code",
   "execution_count": 9,
   "id": "0d7efb73",
   "metadata": {},
   "outputs": [
    {
     "data": {
      "text/plain": [
       "[HumanMessage(content='Hi', additional_kwargs={}, response_metadata={}, id='81885f60-b71a-4569-a8f9-68bb2c1b6223'),\n",
       " AIMessage(content=\"Hi! It's nice to meet you. Is there something I can help you with, or would you like to chat?\", additional_kwargs={}, response_metadata={'token_usage': {'completion_tokens': 26, 'prompt_tokens': 11, 'total_tokens': 37, 'completion_time': 0.032155717, 'prompt_time': 0.002654547, 'queue_time': 0.049354845, 'total_time': 0.034810264}, 'model_name': 'llama3-8b-8192', 'system_fingerprint': 'fp_24ec19897b', 'finish_reason': 'stop', 'logprobs': None}, id='run--8c12847e-c5c2-419a-9934-097427cdd204-0', usage_metadata={'input_tokens': 11, 'output_tokens': 26, 'total_tokens': 37})]"
      ]
     },
     "execution_count": 9,
     "metadata": {},
     "output_type": "execute_result"
    }
   ],
   "source": [
    "response[\"messages\"]"
   ]
  },
  {
   "cell_type": "code",
   "execution_count": 11,
   "id": "9e06c8ab",
   "metadata": {},
   "outputs": [
    {
     "data": {
      "text/plain": [
       "AIMessage(content=\"Hi! It's nice to meet you. Is there something I can help you with, or would you like to chat?\", additional_kwargs={}, response_metadata={'token_usage': {'completion_tokens': 26, 'prompt_tokens': 11, 'total_tokens': 37, 'completion_time': 0.032155717, 'prompt_time': 0.002654547, 'queue_time': 0.049354845, 'total_time': 0.034810264}, 'model_name': 'llama3-8b-8192', 'system_fingerprint': 'fp_24ec19897b', 'finish_reason': 'stop', 'logprobs': None}, id='run--8c12847e-c5c2-419a-9934-097427cdd204-0', usage_metadata={'input_tokens': 11, 'output_tokens': 26, 'total_tokens': 37})"
      ]
     },
     "execution_count": 11,
     "metadata": {},
     "output_type": "execute_result"
    }
   ],
   "source": [
    "response[\"messages\"][-1]"
   ]
  },
  {
   "cell_type": "code",
   "execution_count": 12,
   "id": "35b38282",
   "metadata": {},
   "outputs": [
    {
     "data": {
      "text/plain": [
       "\"Hi! It's nice to meet you. Is there something I can help you with, or would you like to chat?\""
      ]
     },
     "execution_count": 12,
     "metadata": {},
     "output_type": "execute_result"
    }
   ],
   "source": [
    "response[\"messages\"][-1].content"
   ]
  }
 ],
 "metadata": {
  "kernelspec": {
   "display_name": ".venv",
   "language": "python",
   "name": "python3"
  },
  "language_info": {
   "codemirror_mode": {
    "name": "ipython",
    "version": 3
   },
   "file_extension": ".py",
   "mimetype": "text/x-python",
   "name": "python",
   "nbconvert_exporter": "python",
   "pygments_lexer": "ipython3",
   "version": "3.13.3"
  }
 },
 "nbformat": 4,
 "nbformat_minor": 5
}
